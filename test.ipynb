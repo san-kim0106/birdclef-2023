{
 "cells": [
  {
   "cell_type": "code",
   "execution_count": 3,
   "metadata": {},
   "outputs": [],
   "source": [
    "import pandas as pd"
   ]
  },
  {
   "cell_type": "code",
   "execution_count": 4,
   "metadata": {},
   "outputs": [
    {
     "data": {
      "text/html": [
       "<div>\n",
       "<style scoped>\n",
       "    .dataframe tbody tr th:only-of-type {\n",
       "        vertical-align: middle;\n",
       "    }\n",
       "\n",
       "    .dataframe tbody tr th {\n",
       "        vertical-align: top;\n",
       "    }\n",
       "\n",
       "    .dataframe thead th {\n",
       "        text-align: right;\n",
       "    }\n",
       "</style>\n",
       "<table border=\"1\" class=\"dataframe\">\n",
       "  <thead>\n",
       "    <tr style=\"text-align: right;\">\n",
       "      <th></th>\n",
       "      <th>song_sample</th>\n",
       "      <th>bird</th>\n",
       "    </tr>\n",
       "  </thead>\n",
       "  <tbody>\n",
       "    <tr>\n",
       "      <th>0</th>\n",
       "      <td>melspectrogram_dataset/2b9df1f7-67eb-469f-b975...</td>\n",
       "      <td>eubeat1</td>\n",
       "    </tr>\n",
       "    <tr>\n",
       "      <th>1</th>\n",
       "      <td>melspectrogram_dataset/9cc5dbb7-f3f7-49ed-a79e...</td>\n",
       "      <td>combuz1</td>\n",
       "    </tr>\n",
       "    <tr>\n",
       "      <th>2</th>\n",
       "      <td>melspectrogram_dataset/f4d7a9a8-c871-4c6a-b9d0...</td>\n",
       "      <td>barswa</td>\n",
       "    </tr>\n",
       "    <tr>\n",
       "      <th>3</th>\n",
       "      <td>melspectrogram_dataset/b2b67ec4-7788-45d0-8a65...</td>\n",
       "      <td>combuz1</td>\n",
       "    </tr>\n",
       "    <tr>\n",
       "      <th>4</th>\n",
       "      <td>melspectrogram_dataset/825e133d-7922-49f9-9f7b...</td>\n",
       "      <td>comsan</td>\n",
       "    </tr>\n",
       "  </tbody>\n",
       "</table>\n",
       "</div>"
      ],
      "text/plain": [
       "                                         song_sample     bird\n",
       "0  melspectrogram_dataset/2b9df1f7-67eb-469f-b975...  eubeat1\n",
       "1  melspectrogram_dataset/9cc5dbb7-f3f7-49ed-a79e...  combuz1\n",
       "2  melspectrogram_dataset/f4d7a9a8-c871-4c6a-b9d0...   barswa\n",
       "3  melspectrogram_dataset/b2b67ec4-7788-45d0-8a65...  combuz1\n",
       "4  melspectrogram_dataset/825e133d-7922-49f9-9f7b...   comsan"
      ]
     },
     "execution_count": 4,
     "metadata": {},
     "output_type": "execute_result"
    }
   ],
   "source": [
    "data_df = pd.read_csv(\"dataset/melspectrogram_dataset/samples_df.csv\")\n",
    "data_df.head()"
   ]
  },
  {
   "cell_type": "code",
   "execution_count": 5,
   "metadata": {},
   "outputs": [
    {
     "data": {
      "text/plain": [
       "{'barswa',\n",
       " 'blakit1',\n",
       " 'cohmar1',\n",
       " 'combul2',\n",
       " 'combuz1',\n",
       " 'comsan',\n",
       " 'eaywag1',\n",
       " 'egygoo',\n",
       " 'eubeat1',\n",
       " 'gnbcam2',\n",
       " 'greegr',\n",
       " 'hoopoe',\n",
       " 'litegr',\n",
       " 'ratcis1',\n",
       " 'rbsrob1',\n",
       " 'rerswa1',\n",
       " 'somgre1',\n",
       " 'thrnig1',\n",
       " 'wlwwar',\n",
       " 'woosan'}"
      ]
     },
     "execution_count": 5,
     "metadata": {},
     "output_type": "execute_result"
    }
   ],
   "source": [
    "set(data_df[\"bird\"])"
   ]
  }
 ],
 "metadata": {
  "kernelspec": {
   "display_name": "Python 3",
   "language": "python",
   "name": "python3"
  },
  "language_info": {
   "codemirror_mode": {
    "name": "ipython",
    "version": 3
   },
   "file_extension": ".py",
   "mimetype": "text/x-python",
   "name": "python",
   "nbconvert_exporter": "python",
   "pygments_lexer": "ipython3",
   "version": "3.11.1"
  },
  "orig_nbformat": 4
 },
 "nbformat": 4,
 "nbformat_minor": 2
}
