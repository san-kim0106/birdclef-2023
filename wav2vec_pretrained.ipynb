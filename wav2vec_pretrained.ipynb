{
 "cells": [
  {
   "cell_type": "code",
   "execution_count": 1,
   "metadata": {},
   "outputs": [],
   "source": [
    "import pandas as pd\n",
    "import torch\n",
    "from data.dataset import DataSet"
   ]
  },
  {
   "cell_type": "code",
   "execution_count": 2,
   "metadata": {},
   "outputs": [
    {
     "data": {
      "text/html": [
       "<div>\n",
       "<style scoped>\n",
       "    .dataframe tbody tr th:only-of-type {\n",
       "        vertical-align: middle;\n",
       "    }\n",
       "\n",
       "    .dataframe tbody tr th {\n",
       "        vertical-align: top;\n",
       "    }\n",
       "\n",
       "    .dataframe thead th {\n",
       "        text-align: right;\n",
       "    }\n",
       "</style>\n",
       "<table border=\"1\" class=\"dataframe\">\n",
       "  <thead>\n",
       "    <tr style=\"text-align: right;\">\n",
       "      <th></th>\n",
       "      <th>song_sample</th>\n",
       "      <th>bird</th>\n",
       "    </tr>\n",
       "  </thead>\n",
       "  <tbody>\n",
       "    <tr>\n",
       "      <th>0</th>\n",
       "      <td>melspectrogram_dataset/2b9df1f7-67eb-469f-b975...</td>\n",
       "      <td>eubeat1</td>\n",
       "    </tr>\n",
       "    <tr>\n",
       "      <th>1</th>\n",
       "      <td>melspectrogram_dataset/9cc5dbb7-f3f7-49ed-a79e...</td>\n",
       "      <td>combuz1</td>\n",
       "    </tr>\n",
       "    <tr>\n",
       "      <th>2</th>\n",
       "      <td>melspectrogram_dataset/f4d7a9a8-c871-4c6a-b9d0...</td>\n",
       "      <td>barswa</td>\n",
       "    </tr>\n",
       "    <tr>\n",
       "      <th>3</th>\n",
       "      <td>melspectrogram_dataset/b2b67ec4-7788-45d0-8a65...</td>\n",
       "      <td>combuz1</td>\n",
       "    </tr>\n",
       "    <tr>\n",
       "      <th>4</th>\n",
       "      <td>melspectrogram_dataset/825e133d-7922-49f9-9f7b...</td>\n",
       "      <td>comsan</td>\n",
       "    </tr>\n",
       "  </tbody>\n",
       "</table>\n",
       "</div>"
      ],
      "text/plain": [
       "                                         song_sample     bird\n",
       "0  melspectrogram_dataset/2b9df1f7-67eb-469f-b975...  eubeat1\n",
       "1  melspectrogram_dataset/9cc5dbb7-f3f7-49ed-a79e...  combuz1\n",
       "2  melspectrogram_dataset/f4d7a9a8-c871-4c6a-b9d0...   barswa\n",
       "3  melspectrogram_dataset/b2b67ec4-7788-45d0-8a65...  combuz1\n",
       "4  melspectrogram_dataset/825e133d-7922-49f9-9f7b...   comsan"
      ]
     },
     "execution_count": 2,
     "metadata": {},
     "output_type": "execute_result"
    }
   ],
   "source": [
    "data_df = pd.read_csv(\"dataset/melspectrogram_dataset/samples_df.csv\")\n",
    "data_df.head()"
   ]
  },
  {
   "cell_type": "code",
   "execution_count": 3,
   "metadata": {},
   "outputs": [
    {
     "data": {
      "text/plain": [
       "(9738, 2)"
      ]
     },
     "execution_count": 3,
     "metadata": {},
     "output_type": "execute_result"
    }
   ],
   "source": [
    "data_df.shape"
   ]
  },
  {
   "cell_type": "code",
   "execution_count": 4,
   "metadata": {},
   "outputs": [],
   "source": [
    "device = torch.device(\"cuda:0\" if torch.cuda.is_available() else \"cpu\") # Use GPU if available\n",
    "torch.backends.cudnn.benchmark = True # Run benchmark convolution operations and choose the fastest"
   ]
  },
  {
   "cell_type": "code",
   "execution_count": 5,
   "metadata": {},
   "outputs": [],
   "source": [
    "params = {\n",
    "    \"batch_size\" : 64,\n",
    "    \"shuffle\"     : True,\n",
    "    \"num_workers\": 6\n",
    "}\n",
    "max_epoch = 100"
   ]
  },
  {
   "cell_type": "code",
   "execution_count": 6,
   "metadata": {},
   "outputs": [],
   "source": [
    "partition = {\n",
    "    \"train\"      : data_df.iloc[:int(len(data_df)*0.7), 0],\n",
    "    \"validation\" : data_df.iloc[int(len(data_df)*0.7):, 0]\n",
    "}\n",
    "\n",
    "labels = {row[\"song_sample\"]: row[\"bird\"] for index, row in data_df.iterrows()}\n",
    "\n",
    "one_hot_encodings = {'barswa'  : 0,\n",
    "                     'blakit1' : 1,\n",
    "                     'cohmar1' : 2,\n",
    "                     'combul2' : 3,\n",
    "                     'combuz1' : 4,\n",
    "                     'comsan'  : 5,\n",
    "                     'eaywag1' : 6,\n",
    "                     'egygoo'  : 7,\n",
    "                     'eubeat1' : 8,\n",
    "                     'gnbcam2' : 9,\n",
    "                     'greegr'  : 10,\n",
    "                     'hoopoe'  : 11,\n",
    "                     'litegr'  : 12,\n",
    "                     'ratcis1' : 13,\n",
    "                     'rbsrob1' : 14,\n",
    "                     'rerswa1' : 15,\n",
    "                     'somgre1' : 16,\n",
    "                     'thrnig1' : 17,\n",
    "                     'wlwwar'  : 18,\n",
    "                     'woosan'  : 19}"
   ]
  },
  {
   "cell_type": "code",
   "execution_count": 7,
   "metadata": {},
   "outputs": [],
   "source": [
    "training_set = DataSet(partition[\"train\"], labels, one_hot_encodings)\n",
    "training_generator = torch.utils.data.DataLoader(training_set, **params)\n",
    "\n",
    "validation_set = DataSet(partition[\"validation\"], labels, one_hot_encodings)\n",
    "validation_generator = torch.utils.data.DataLoader(validation_set, **params)"
   ]
  },
  {
   "cell_type": "code",
   "execution_count": 9,
   "metadata": {},
   "outputs": [],
   "source": [
    "for epoch in range(max_epoch):\n",
    "    for local_batch, local_labels in training_generator:\n",
    "        local_batch, local_labels = local_batch.to(device), local_labels.to(device)\n",
    "        break\n",
    "    break"
   ]
  }
 ],
 "metadata": {
  "kernelspec": {
   "display_name": "Python 3",
   "language": "python",
   "name": "python3"
  },
  "language_info": {
   "codemirror_mode": {
    "name": "ipython",
    "version": 3
   },
   "file_extension": ".py",
   "mimetype": "text/x-python",
   "name": "python",
   "nbconvert_exporter": "python",
   "pygments_lexer": "ipython3",
   "version": "3.11.1"
  },
  "orig_nbformat": 4
 },
 "nbformat": 4,
 "nbformat_minor": 2
}
