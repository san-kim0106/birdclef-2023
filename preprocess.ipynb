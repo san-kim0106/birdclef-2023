{
 "cells": [
  {
   "cell_type": "code",
   "execution_count": 1,
   "metadata": {},
   "outputs": [],
   "source": [
    "import numpy as np\n",
    "import scipy\n",
    "import librosa\n",
    "import soundfile as sf\n",
    "import librosa\n",
    "from librosa.feature import melspectrogram\n",
    "import sklearn\n",
    "from sklearn import preprocessing\n",
    "import pandas as pd\n",
    "from uuid import uuid4\n",
    "from tqdm import tqdm\n",
    "import os"
   ]
  },
  {
   "cell_type": "code",
   "execution_count": 2,
   "metadata": {},
   "outputs": [],
   "source": [
    "def log_melspectrogram(wave_data):\n",
    "    mel = melspectrogram(y=wave_data, n_mels=216).T\n",
    "    db = librosa.power_to_db(mel)\n",
    "    normalised_db = preprocessing.minmax_scale(db)\n",
    "\n",
    "    return normalised_db\n",
    "\n",
    "def activity_detector(mel):\n",
    "    energy = list()\n",
    "    for mel_t in mel:\n",
    "        energy.append(np.sum(np.square(mel_t)))\n",
    "\n",
    "    scales = np.arange(1, 10)\n",
    "    peaks = scipy.signal.find_peaks_cwt(energy, scales)\n",
    "    peaks = sorted(peaks, key=lambda x: -energy[x])\n",
    "\n",
    "    try:\n",
    "        return (peaks[0] / len(energy), peaks[1] / len(energy))\n",
    "    except:\n",
    "        return"
   ]
  },
  {
   "cell_type": "code",
   "execution_count": 3,
   "metadata": {},
   "outputs": [],
   "source": [
    "os.makedirs(os.getcwd() + \"/data/birdclef-2023/processed\", exist_ok=True)"
   ]
  },
  {
   "cell_type": "code",
   "execution_count": 4,
   "metadata": {},
   "outputs": [
    {
     "data": {
      "text/html": [
       "<div>\n",
       "<style scoped>\n",
       "    .dataframe tbody tr th:only-of-type {\n",
       "        vertical-align: middle;\n",
       "    }\n",
       "\n",
       "    .dataframe tbody tr th {\n",
       "        vertical-align: top;\n",
       "    }\n",
       "\n",
       "    .dataframe thead th {\n",
       "        text-align: right;\n",
       "    }\n",
       "</style>\n",
       "<table border=\"1\" class=\"dataframe\">\n",
       "  <thead>\n",
       "    <tr style=\"text-align: right;\">\n",
       "      <th></th>\n",
       "      <th>path</th>\n",
       "      <th>label</th>\n",
       "    </tr>\n",
       "  </thead>\n",
       "  <tbody>\n",
       "    <tr>\n",
       "      <th>0</th>\n",
       "      <td>/Users/kimsan/Desktop/Lecture-Materials/3-1/AI...</td>\n",
       "      <td>ruegls1</td>\n",
       "    </tr>\n",
       "    <tr>\n",
       "      <th>1</th>\n",
       "      <td>/Users/kimsan/Desktop/Lecture-Materials/3-1/AI...</td>\n",
       "      <td>ruegls1</td>\n",
       "    </tr>\n",
       "    <tr>\n",
       "      <th>2</th>\n",
       "      <td>/Users/kimsan/Desktop/Lecture-Materials/3-1/AI...</td>\n",
       "      <td>ruegls1</td>\n",
       "    </tr>\n",
       "    <tr>\n",
       "      <th>3</th>\n",
       "      <td>/Users/kimsan/Desktop/Lecture-Materials/3-1/AI...</td>\n",
       "      <td>ruegls1</td>\n",
       "    </tr>\n",
       "    <tr>\n",
       "      <th>4</th>\n",
       "      <td>/Users/kimsan/Desktop/Lecture-Materials/3-1/AI...</td>\n",
       "      <td>ruegls1</td>\n",
       "    </tr>\n",
       "  </tbody>\n",
       "</table>\n",
       "</div>"
      ],
      "text/plain": [
       "                                                path    label\n",
       "0  /Users/kimsan/Desktop/Lecture-Materials/3-1/AI...  ruegls1\n",
       "1  /Users/kimsan/Desktop/Lecture-Materials/3-1/AI...  ruegls1\n",
       "2  /Users/kimsan/Desktop/Lecture-Materials/3-1/AI...  ruegls1\n",
       "3  /Users/kimsan/Desktop/Lecture-Materials/3-1/AI...  ruegls1\n",
       "4  /Users/kimsan/Desktop/Lecture-Materials/3-1/AI...  ruegls1"
      ]
     },
     "execution_count": 4,
     "metadata": {},
     "output_type": "execute_result"
    }
   ],
   "source": [
    "data_df = pd.read_csv(os.getcwd() + \"/data/birdclef-2023/train_audio/audio_paths.csv\")\n",
    "data_df.head()"
   ]
  },
  {
   "cell_type": "code",
   "execution_count": 5,
   "metadata": {},
   "outputs": [],
   "source": [
    "trimed_df = pd.DataFrame(columns=[\"path\", \"label\"])"
   ]
  },
  {
   "cell_type": "code",
   "execution_count": 6,
   "metadata": {},
   "outputs": [
    {
     "name": "stderr",
     "output_type": "stream",
     "text": [
      "2103it [07:09,  1.06s/it]/Users/kimsan/Desktop/Lecture-Materials/3-1/AIGS538-Deep-Learning/final-project/dl-final-project/lib/python3.10/site-packages/scipy/signal/_peak_finding.py:1192: RuntimeWarning: invalid value encountered in scalar divide\n",
      "  snr = abs(cwt[line[0][0], line[1][0]] / noises[line[1][0]])\n",
      "3220it [11:41,  2.55it/s]/Users/kimsan/Desktop/Lecture-Materials/3-1/AIGS538-Deep-Learning/final-project/dl-final-project/lib/python3.10/site-packages/scipy/signal/_peak_finding.py:1192: RuntimeWarning: divide by zero encountered in scalar divide\n",
      "  snr = abs(cwt[line[0][0], line[1][0]] / noises[line[1][0]])\n",
      "5185it [21:53,  7.62it/s]/Users/kimsan/Desktop/Lecture-Materials/3-1/AIGS538-Deep-Learning/final-project/dl-final-project/lib/python3.10/site-packages/scipy/signal/_peak_finding.py:1192: RuntimeWarning: invalid value encountered in scalar divide\n",
      "  snr = abs(cwt[line[0][0], line[1][0]] / noises[line[1][0]])\n",
      "8989it [41:16,  6.26it/s]/Users/kimsan/Desktop/Lecture-Materials/3-1/AIGS538-Deep-Learning/final-project/dl-final-project/lib/python3.10/site-packages/scipy/signal/_peak_finding.py:1192: RuntimeWarning: divide by zero encountered in scalar divide\n",
      "  snr = abs(cwt[line[0][0], line[1][0]] / noises[line[1][0]])\n",
      "8994it [41:17,  7.44it/s]/Users/kimsan/Desktop/Lecture-Materials/3-1/AIGS538-Deep-Learning/final-project/dl-final-project/lib/python3.10/site-packages/scipy/signal/_peak_finding.py:1192: RuntimeWarning: divide by zero encountered in scalar divide\n",
      "  snr = abs(cwt[line[0][0], line[1][0]] / noises[line[1][0]])\n",
      "12220it [54:19,  5.80it/s]/Users/kimsan/Desktop/Lecture-Materials/3-1/AIGS538-Deep-Learning/final-project/dl-final-project/lib/python3.10/site-packages/scipy/signal/_peak_finding.py:1192: RuntimeWarning: divide by zero encountered in scalar divide\n",
      "  snr = abs(cwt[line[0][0], line[1][0]] / noises[line[1][0]])\n",
      "/Users/kimsan/Desktop/Lecture-Materials/3-1/AIGS538-Deep-Learning/final-project/dl-final-project/lib/python3.10/site-packages/scipy/signal/_peak_finding.py:1192: RuntimeWarning: invalid value encountered in scalar divide\n",
      "  snr = abs(cwt[line[0][0], line[1][0]] / noises[line[1][0]])\n",
      "13920it [59:38,  7.86it/s]/Users/kimsan/Desktop/Lecture-Materials/3-1/AIGS538-Deep-Learning/final-project/dl-final-project/lib/python3.10/site-packages/scipy/signal/_peak_finding.py:1192: RuntimeWarning: divide by zero encountered in scalar divide\n",
      "  snr = abs(cwt[line[0][0], line[1][0]] / noises[line[1][0]])\n",
      "16589it [1:09:03,  4.65it/s]/Users/kimsan/Desktop/Lecture-Materials/3-1/AIGS538-Deep-Learning/final-project/dl-final-project/lib/python3.10/site-packages/scipy/signal/_peak_finding.py:1192: RuntimeWarning: divide by zero encountered in scalar divide\n",
      "  snr = abs(cwt[line[0][0], line[1][0]] / noises[line[1][0]])\n",
      "16619it [1:09:05, 11.21it/s]/Users/kimsan/Desktop/Lecture-Materials/3-1/AIGS538-Deep-Learning/final-project/dl-final-project/lib/python3.10/site-packages/scipy/signal/_peak_finding.py:1192: RuntimeWarning: divide by zero encountered in scalar divide\n",
      "  snr = abs(cwt[line[0][0], line[1][0]] / noises[line[1][0]])\n",
      "16941it [1:10:04,  4.03it/s]\n"
     ]
    }
   ],
   "source": [
    "for index, row in tqdm(data_df.iterrows()):\n",
    "    path = row[\"path\"]\n",
    "    label = row[\"label\"]\n",
    "    os.makedirs(os.getcwd() + \"/data/birdclef-2023/processed/\" + label, exist_ok=True)\n",
    "\n",
    "    wave_data, sample_rate = librosa.load(path)\n",
    "    \n",
    "    mel = log_melspectrogram(wave_data)\n",
    "\n",
    "    try:\n",
    "        peak1, peak2 = activity_detector(mel)\n",
    "    except:\n",
    "        continue\n",
    "\n",
    "    center1 = int(len(wave_data) * peak1)\n",
    "    center2 = int(len(wave_data) * peak2)\n",
    "\n",
    "    if (center1 - 2 * sample_rate < 0):\n",
    "        trim_data1 = wave_data[:center1 + 2*sample_rate]\n",
    "        trim_data1 = np.append([0 for i in range(abs(center1 - 2 * sample_rate))], trim_data1)\n",
    "\n",
    "    elif (center1 + 2 * sample_rate >= len(wave_data)):\n",
    "        trim_data1 = wave_data[center1 - 2*sample_rate:]\n",
    "        trim_data1 = np.append(trim_data1, [0 for i in range(center1 + 2 * sample_rate - len(wave_data))])\n",
    "\n",
    "    else:\n",
    "        trim_data1 = wave_data[center1 - 2*sample_rate: center1 + 2*sample_rate]\n",
    "\n",
    "    if (center2 - 2 * sample_rate < 0):\n",
    "        trim_data2 = wave_data[: center2 + 2*sample_rate]\n",
    "        trim_data2 = np.append([0 for i in range(abs(center2 - 2 * sample_rate))], trim_data2)\n",
    "\n",
    "    elif (center2 + 2 * sample_rate >= len(wave_data)):\n",
    "        trim_data2 = wave_data[center2 - 2*sample_rate:]\n",
    "        trim_data2 = np.append(trim_data2, [0 for i in range(center2 + 2 * sample_rate - len(wave_data))])\n",
    "\n",
    "    else:\n",
    "        trim_data2 = wave_data[center2 - 2*sample_rate: center2 + 2*sample_rate]\n",
    "\n",
    "    filename1 = str(uuid4()) + \".ogg\"\n",
    "    filename2 = str(uuid4()) + \".ogg\"\n",
    "\n",
    "    sf.write(\"data/birdclef-2023/processed/\" + label + \"/\" + filename1, trim_data1, samplerate=sample_rate)\n",
    "    sf.write(\"data/birdclef-2023/processed/\" + label + \"/\" + filename2, trim_data2, samplerate=sample_rate)\n",
    "\n",
    "    trimed_df.loc[len(trimed_df)] = [\"data/birdclef-2023/processed/\" + label + \"/\" + filename1, label]\n",
    "    trimed_df.loc[len(trimed_df)] = [\"data/birdclef-2023/processed/\" + label + \"/\" + filename2, label]"
   ]
  },
  {
   "cell_type": "code",
   "execution_count": 16,
   "metadata": {},
   "outputs": [
    {
     "ename": "ValueError",
     "evalue": "hist method requires numerical or datetime columns, nothing to plot.",
     "output_type": "error",
     "traceback": [
      "\u001b[0;31m---------------------------------------------------------------------------\u001b[0m",
      "\u001b[0;31mValueError\u001b[0m                                Traceback (most recent call last)",
      "Cell \u001b[0;32mIn[16], line 2\u001b[0m\n\u001b[1;32m      1\u001b[0m trimed_df\u001b[39m.\u001b[39mto_csv(\u001b[39m\"\u001b[39m\u001b[39mdata/birdclef-2023/processed/trimed_df.csv\u001b[39m\u001b[39m\"\u001b[39m, index\u001b[39m=\u001b[39m\u001b[39mFalse\u001b[39;00m)\n\u001b[0;32m----> 2\u001b[0m trimed_df\u001b[39m.\u001b[39;49mhist(column\u001b[39m=\u001b[39;49m\u001b[39m\"\u001b[39;49m\u001b[39mlabel\u001b[39;49m\u001b[39m\"\u001b[39;49m)\n",
      "File \u001b[0;32m~/Desktop/Lecture-Materials/3-1/AIGS538-Deep-Learning/final-project/dl-final-project/lib/python3.10/site-packages/pandas/plotting/_core.py:223\u001b[0m, in \u001b[0;36mhist_frame\u001b[0;34m(data, column, by, grid, xlabelsize, xrot, ylabelsize, yrot, ax, sharex, sharey, figsize, layout, bins, backend, legend, **kwargs)\u001b[0m\n\u001b[1;32m    134\u001b[0m \u001b[39m\u001b[39m\u001b[39m\"\"\"\u001b[39;00m\n\u001b[1;32m    135\u001b[0m \u001b[39mMake a histogram of the DataFrame's columns.\u001b[39;00m\n\u001b[1;32m    136\u001b[0m \n\u001b[0;32m   (...)\u001b[0m\n\u001b[1;32m    220\u001b[0m \u001b[39m    >>> hist = df.hist(bins=3)\u001b[39;00m\n\u001b[1;32m    221\u001b[0m \u001b[39m\"\"\"\u001b[39;00m\n\u001b[1;32m    222\u001b[0m plot_backend \u001b[39m=\u001b[39m _get_plot_backend(backend)\n\u001b[0;32m--> 223\u001b[0m \u001b[39mreturn\u001b[39;00m plot_backend\u001b[39m.\u001b[39;49mhist_frame(\n\u001b[1;32m    224\u001b[0m     data,\n\u001b[1;32m    225\u001b[0m     column\u001b[39m=\u001b[39;49mcolumn,\n\u001b[1;32m    226\u001b[0m     by\u001b[39m=\u001b[39;49mby,\n\u001b[1;32m    227\u001b[0m     grid\u001b[39m=\u001b[39;49mgrid,\n\u001b[1;32m    228\u001b[0m     xlabelsize\u001b[39m=\u001b[39;49mxlabelsize,\n\u001b[1;32m    229\u001b[0m     xrot\u001b[39m=\u001b[39;49mxrot,\n\u001b[1;32m    230\u001b[0m     ylabelsize\u001b[39m=\u001b[39;49mylabelsize,\n\u001b[1;32m    231\u001b[0m     yrot\u001b[39m=\u001b[39;49myrot,\n\u001b[1;32m    232\u001b[0m     ax\u001b[39m=\u001b[39;49max,\n\u001b[1;32m    233\u001b[0m     sharex\u001b[39m=\u001b[39;49msharex,\n\u001b[1;32m    234\u001b[0m     sharey\u001b[39m=\u001b[39;49msharey,\n\u001b[1;32m    235\u001b[0m     figsize\u001b[39m=\u001b[39;49mfigsize,\n\u001b[1;32m    236\u001b[0m     layout\u001b[39m=\u001b[39;49mlayout,\n\u001b[1;32m    237\u001b[0m     legend\u001b[39m=\u001b[39;49mlegend,\n\u001b[1;32m    238\u001b[0m     bins\u001b[39m=\u001b[39;49mbins,\n\u001b[1;32m    239\u001b[0m     \u001b[39m*\u001b[39;49m\u001b[39m*\u001b[39;49mkwargs,\n\u001b[1;32m    240\u001b[0m )\n",
      "File \u001b[0;32m~/Desktop/Lecture-Materials/3-1/AIGS538-Deep-Learning/final-project/dl-final-project/lib/python3.10/site-packages/pandas/plotting/_matplotlib/hist.py:514\u001b[0m, in \u001b[0;36mhist_frame\u001b[0;34m(data, column, by, grid, xlabelsize, xrot, ylabelsize, yrot, ax, sharex, sharey, figsize, layout, bins, legend, **kwds)\u001b[0m\n\u001b[1;32m    511\u001b[0m naxes \u001b[39m=\u001b[39m \u001b[39mlen\u001b[39m(data\u001b[39m.\u001b[39mcolumns)\n\u001b[1;32m    513\u001b[0m \u001b[39mif\u001b[39;00m naxes \u001b[39m==\u001b[39m \u001b[39m0\u001b[39m:\n\u001b[0;32m--> 514\u001b[0m     \u001b[39mraise\u001b[39;00m \u001b[39mValueError\u001b[39;00m(\n\u001b[1;32m    515\u001b[0m         \u001b[39m\"\u001b[39m\u001b[39mhist method requires numerical or datetime columns, nothing to plot.\u001b[39m\u001b[39m\"\u001b[39m\n\u001b[1;32m    516\u001b[0m     )\n\u001b[1;32m    518\u001b[0m fig, axes \u001b[39m=\u001b[39m create_subplots(\n\u001b[1;32m    519\u001b[0m     naxes\u001b[39m=\u001b[39mnaxes,\n\u001b[1;32m    520\u001b[0m     ax\u001b[39m=\u001b[39max,\n\u001b[0;32m   (...)\u001b[0m\n\u001b[1;32m    525\u001b[0m     layout\u001b[39m=\u001b[39mlayout,\n\u001b[1;32m    526\u001b[0m )\n\u001b[1;32m    527\u001b[0m _axes \u001b[39m=\u001b[39m flatten_axes(axes)\n",
      "\u001b[0;31mValueError\u001b[0m: hist method requires numerical or datetime columns, nothing to plot."
     ]
    }
   ],
   "source": [
    "trimed_df.to_csv(\"data/birdclef-2023/processed/trimed_df.csv\", index=False)\n"
   ]
  },
  {
   "cell_type": "code",
   "execution_count": 19,
   "metadata": {},
   "outputs": [],
   "source": [
    "one_hot_encodings = {label: index for index, label in enumerate(sorted(list(set(trimed_df[\"label\"]))))}\n",
    "\n",
    "trimed_df[\"numeric_label\"] = pd.Series([one_hot_encodings[row[\"label\"]] for index, row in trimed_df.iterrows()])"
   ]
  },
  {
   "cell_type": "code",
   "execution_count": 21,
   "metadata": {},
   "outputs": [
    {
     "data": {
      "text/plain": [
       "array([[<Axes: title={'center': 'numeric_label'}>]], dtype=object)"
      ]
     },
     "execution_count": 21,
     "metadata": {},
     "output_type": "execute_result"
    },
    {
     "data": {
      "image/png": "[encoded data removed]",
      "text/plain": [
       "<Figure size 640x480 with 1 Axes>"
      ]
     },
     "metadata": {},
     "output_type": "display_data"
    }
   ],
   "source": [
    "trimed_df.hist(column=\"numeric_label\")"
   ]
  },
  {
   "cell_type": "code",
   "execution_count": 22,
   "metadata": {},
   "outputs": [],
   "source": [
    "# Sanity check\n",
    "for index, row in trimed_df.iterrows():\n",
    "    wave_data, sample_rate = librosa.load(row[\"path\"])\n",
    "    if (len(wave_data) != 88200): trimed_df.drop(index, axis=0, inplace=True)\n",
    "\n"
   ]
  },
  {
   "cell_type": "code",
   "execution_count": 23,
   "metadata": {},
   "outputs": [
    {
     "data": {
      "text/plain": [
       "array([[<Axes: title={'center': 'numeric_label'}>]], dtype=object)"
      ]
     },
     "execution_count": 23,
     "metadata": {},
     "output_type": "execute_result"
    },
    {
     "data": {
      "image/png": "[encoded data removed]",
      "text/plain": [
       "<Figure size 640x480 with 1 Axes>"
      ]
     },
     "metadata": {},
     "output_type": "display_data"
    }
   ],
   "source": [
    "trimed_df.hist(column=\"numeric_label\")"
   ]
  }
 ],
 "metadata": {
  "kernelspec": {
   "display_name": "dl-final-project",
   "language": "python",
   "name": "python3"
  },
  "language_info": {
   "codemirror_mode": {
    "name": "ipython",
    "version": 3
   },
   "file_extension": ".py",
   "mimetype": "text/x-python",
   "name": "python",
   "nbconvert_exporter": "python",
   "pygments_lexer": "ipython3",
   "version": "3.10.8"
  },
  "orig_nbformat": 4
 },
 "nbformat": 4,
 "nbformat_minor": 2
}
